{
 "cells": [
  {
   "cell_type": "markdown",
   "metadata": {},
   "source": [
    "# ML Pipeline Preparation\n",
    "Follow the instructions below to help you create your ML pipeline.\n",
    "### 1. Import libraries and load data from database.\n",
    "- Import Python libraries\n",
    "- Load dataset from database with [`read_sql_table`](https://pandas.pydata.org/pandas-docs/stable/generated/pandas.read_sql_table.html)\n",
    "- Define feature and target variables X and Y"
   ]
  },
  {
   "cell_type": "code",
   "execution_count": 1,
   "metadata": {
    "ExecuteTime": {
     "end_time": "2019-08-16T00:41:51.932115Z",
     "start_time": "2019-08-16T00:41:42.024954Z"
    }
   },
   "outputs": [
    {
     "name": "stdout",
     "output_type": "stream",
     "text": [
      "[nltk_data] Downloading package punkt to\n",
      "[nltk_data]     C:\\Users\\user\\AppData\\Roaming\\nltk_data...\n",
      "[nltk_data]   Package punkt is already up-to-date!\n",
      "[nltk_data] Downloading package wordnet to\n",
      "[nltk_data]     C:\\Users\\user\\AppData\\Roaming\\nltk_data...\n",
      "[nltk_data]   Package wordnet is already up-to-date!\n",
      "[nltk_data] Downloading package stopwords to\n",
      "[nltk_data]     C:\\Users\\user\\AppData\\Roaming\\nltk_data...\n",
      "[nltk_data]   Package stopwords is already up-to-date!\n",
      "[nltk_data] Downloading package averaged_perceptron_tagger to\n",
      "[nltk_data]     C:\\Users\\user\\AppData\\Roaming\\nltk_data...\n",
      "[nltk_data]   Package averaged_perceptron_tagger is already up-to-\n",
      "[nltk_data]       date!\n"
     ]
    },
    {
     "data": {
      "text/plain": [
       "True"
      ]
     },
     "execution_count": 1,
     "metadata": {},
     "output_type": "execute_result"
    }
   ],
   "source": [
    "# import libraries\n",
    "import pandas as pd\n",
    "import numpy as np\n",
    "import sqlite3\n",
    "import nltk\n",
    "from nltk.tokenize import word_tokenize\n",
    "nltk.download(['punkt', 'wordnet','stopwords', 'averaged_perceptron_tagger'])"
   ]
  },
  {
   "cell_type": "code",
   "execution_count": 2,
   "metadata": {
    "ExecuteTime": {
     "end_time": "2019-08-16T00:41:57.193412Z",
     "start_time": "2019-08-16T00:41:57.185097Z"
    },
    "collapsed": true
   },
   "outputs": [],
   "source": [
    "import re\n",
    "from nltk.corpus import stopwords\n",
    "from nltk.stem.porter import PorterStemmer\n",
    "from nltk.stem.wordnet import WordNetLemmatizer"
   ]
  },
  {
   "cell_type": "code",
   "execution_count": 3,
   "metadata": {
    "ExecuteTime": {
     "end_time": "2019-08-16T00:41:59.148515Z",
     "start_time": "2019-08-16T00:41:58.908821Z"
    },
    "collapsed": true
   },
   "outputs": [],
   "source": [
    "from sklearn.metrics import confusion_matrix\n",
    "from sklearn.model_selection import train_test_split, GridSearchCV\n",
    "from sklearn.ensemble import RandomForestClassifier\n",
    "from sklearn.feature_extraction.text import CountVectorizer, TfidfTransformer\n",
    "from sklearn.multioutput import MultiOutputClassifier\n",
    "from sklearn.pipeline import Pipeline\n",
    "from sklearn.metrics import classification_report, accuracy_score\n"
   ]
  },
  {
   "cell_type": "code",
   "execution_count": 4,
   "metadata": {
    "ExecuteTime": {
     "end_time": "2019-08-16T00:42:06.836163Z",
     "start_time": "2019-08-16T00:42:05.402463Z"
    },
    "collapsed": true
   },
   "outputs": [],
   "source": [
    "# load data from database\n",
    "conn = sqlite3.connect('../data/DisasterDB.db')\n",
    "df = pd.read_sql('select * from messages',con = conn)\n",
    "X = df['message']\n",
    "Y = df.drop(['id','message','original','genre'],axis=1)"
   ]
  },
  {
   "cell_type": "code",
   "execution_count": 5,
   "metadata": {
    "ExecuteTime": {
     "end_time": "2019-08-16T00:42:09.595339Z",
     "start_time": "2019-08-16T00:42:09.590589Z"
    },
    "collapsed": true
   },
   "outputs": [],
   "source": [
    "category_names = Y.columns"
   ]
  },
  {
   "cell_type": "markdown",
   "metadata": {},
   "source": [
    "### 2. Write a tokenization function to process your text data"
   ]
  },
  {
   "cell_type": "code",
   "execution_count": 6,
   "metadata": {
    "ExecuteTime": {
     "end_time": "2019-08-16T00:42:11.954001Z",
     "start_time": "2019-08-16T00:42:11.937533Z"
    },
    "collapsed": true
   },
   "outputs": [],
   "source": [
    "def tokenize(text):\n",
    "    text = text.lower()\n",
    "    text = re.sub(r\"[^a-zA-Z0-9]\",\" \",text)\n",
    "    words = word_tokenize(text)\n",
    "    words = [w for w in words if w not in stopwords.words(\"english\")]\n",
    "    lemmed = [WordNetLemmatizer().lemmatize(w) for w in words]\n",
    "    clear_text = [PorterStemmer().stem(w) for w in lemmed]\n",
    "    return clear_text"
   ]
  },
  {
   "cell_type": "code",
   "execution_count": 7,
   "metadata": {
    "ExecuteTime": {
     "end_time": "2019-08-16T00:42:18.219545Z",
     "start_time": "2019-08-16T00:42:14.247910Z"
    }
   },
   "outputs": [
    {
     "data": {
      "text/plain": [
       "['rubbl', 'st', 'luke', 'hospit', '32', 'delma', 'pleas', 'help', 'find']"
      ]
     },
     "execution_count": 7,
     "metadata": {},
     "output_type": "execute_result"
    }
   ],
   "source": [
    "tokenize(df.iloc[2312,1])"
   ]
  },
  {
   "cell_type": "markdown",
   "metadata": {},
   "source": [
    "### 3. Build a machine learning pipeline\n",
    "This machine pipeline should take in the `message` column as input and output classification results on the other 36 categories in the dataset. You may find the [MultiOutputClassifier](http://scikit-learn.org/stable/modules/generated/sklearn.multioutput.MultiOutputClassifier.html) helpful for predicting multiple target variables."
   ]
  },
  {
   "cell_type": "code",
   "execution_count": 8,
   "metadata": {
    "ExecuteTime": {
     "end_time": "2019-08-16T00:42:23.685220Z",
     "start_time": "2019-08-16T00:42:23.675428Z"
    },
    "collapsed": true
   },
   "outputs": [],
   "source": [
    "pipeline = Pipeline([\n",
    "        ('vect', CountVectorizer(tokenizer=tokenize)),\n",
    "        ('tfidf', TfidfTransformer()),\n",
    "        ('clf', MultiOutputClassifier(RandomForestClassifier()))\n",
    "    ])"
   ]
  },
  {
   "cell_type": "markdown",
   "metadata": {},
   "source": [
    "### 4. Train pipeline\n",
    "- Split data into train and test sets\n",
    "- Train pipeline"
   ]
  },
  {
   "cell_type": "code",
   "execution_count": 9,
   "metadata": {
    "ExecuteTime": {
     "end_time": "2019-08-16T00:42:27.561708Z",
     "start_time": "2019-08-16T00:42:27.530597Z"
    },
    "collapsed": true
   },
   "outputs": [],
   "source": [
    "X_train, X_test, y_train, y_test = train_test_split(X, Y,test_size=0.2)\n",
    "\n",
    "#pipeline.fit(X_train, y_train)"
   ]
  },
  {
   "cell_type": "markdown",
   "metadata": {},
   "source": [
    "### 5. Test your model\n",
    "Report the f1 score, precision and recall for each output category of the dataset. You can do this by iterating through the columns and calling sklearn's `classification_report` on each."
   ]
  },
  {
   "cell_type": "code",
   "execution_count": null,
   "metadata": {
    "collapsed": true
   },
   "outputs": [],
   "source": [
    "y_preds = pipeline.predict(X_test)"
   ]
  },
  {
   "cell_type": "code",
   "execution_count": null,
   "metadata": {
    "collapsed": true
   },
   "outputs": [],
   "source": [
    "for i in range(len(category_names)):\n",
    "        print(\"Category:\", category_names[i],\"\\n\", classification_report(y_test.iloc[:, i].values, y_preds[:, i]))\n",
    "        print('Accuracy of %25s: %.2f' %(category_names[i], accuracy_score(y_test.iloc[:, i].values, y_preds[:,i])))"
   ]
  },
  {
   "cell_type": "markdown",
   "metadata": {},
   "source": [
    "### 6. Improve your model\n",
    "Use grid search to find better parameters. "
   ]
  },
  {
   "cell_type": "code",
   "execution_count": 10,
   "metadata": {
    "ExecuteTime": {
     "end_time": "2019-08-16T00:42:38.614078Z",
     "start_time": "2019-08-16T00:42:38.601722Z"
    },
    "collapsed": true
   },
   "outputs": [],
   "source": [
    "parameters = {'clf__estimator__n_estimators': [50, 100],\n",
    "                  'clf__estimator__min_samples_split': [2, 3, 4],\n",
    "                  'clf__estimator__criterion': ['entropy', 'gini']\n",
    "                 }\n",
    "\n",
    "cv = GridSearchCV(pipeline, param_grid=parameters)"
   ]
  },
  {
   "cell_type": "markdown",
   "metadata": {},
   "source": [
    "### 7. Test your model\n",
    "Show the accuracy, precision, and recall of the tuned model.  \n",
    "\n",
    "Since this project focuses on code quality, process, and  pipelines, there is no minimum performance metric needed to pass. However, make sure to fine tune your models for accuracy, precision and recall to make your project stand out - especially for your portfolio!"
   ]
  },
  {
   "cell_type": "code",
   "execution_count": 11,
   "metadata": {
    "ExecuteTime": {
     "end_time": "2019-08-16T07:05:12.873929Z",
     "start_time": "2019-08-16T00:42:43.770796Z"
    }
   },
   "outputs": [
    {
     "data": {
      "text/plain": [
       "GridSearchCV(cv=None, error_score='raise',\n",
       "       estimator=Pipeline(memory=None,\n",
       "     steps=[('vect', CountVectorizer(analyzer='word', binary=False, decode_error='strict',\n",
       "        dtype=<class 'numpy.int64'>, encoding='utf-8', input='content',\n",
       "        lowercase=True, max_df=1.0, max_features=None, min_df=1,\n",
       "        ngram_range=(1, 1), preprocessor=None, stop_words=None,\n",
       "        strip...oob_score=False, random_state=None, verbose=0,\n",
       "            warm_start=False),\n",
       "           n_jobs=1))]),\n",
       "       fit_params=None, iid=True, n_jobs=1,\n",
       "       param_grid={'clf__estimator__n_estimators': [50, 100], 'clf__estimator__min_samples_split': [2, 3, 4], 'clf__estimator__criterion': ['entropy', 'gini']},\n",
       "       pre_dispatch='2*n_jobs', refit=True, return_train_score='warn',\n",
       "       scoring=None, verbose=0)"
      ]
     },
     "execution_count": 11,
     "metadata": {},
     "output_type": "execute_result"
    }
   ],
   "source": [
    "cv.fit(X_train,y_train)"
   ]
  },
  {
   "cell_type": "code",
   "execution_count": 17,
   "metadata": {
    "ExecuteTime": {
     "end_time": "2019-08-16T15:55:09.734123Z",
     "start_time": "2019-08-16T15:55:08.968115Z"
    }
   },
   "outputs": [
    {
     "ename": "TypeError",
     "evalue": "file must have a 'write' attribute",
     "output_type": "error",
     "traceback": [
      "\u001b[1;31m---------------------------------------------------------------------------\u001b[0m",
      "\u001b[1;31mTypeError\u001b[0m                                 Traceback (most recent call last)",
      "\u001b[1;32m<ipython-input-17-b3730a29b3f4>\u001b[0m in \u001b[0;36m<module>\u001b[1;34m()\u001b[0m\n\u001b[1;32m----> 1\u001b[1;33m \u001b[0mpickle\u001b[0m\u001b[1;33m.\u001b[0m\u001b[0mdump\u001b[0m\u001b[1;33m(\u001b[0m\u001b[0mcv\u001b[0m\u001b[1;33m,\u001b[0m\u001b[1;34m'cls.pkl'\u001b[0m\u001b[1;33m)\u001b[0m\u001b[1;33m\u001b[0m\u001b[0m\n\u001b[0m",
      "\u001b[1;31mTypeError\u001b[0m: file must have a 'write' attribute"
     ]
    }
   ],
   "source": [
    "pickle.dump(cv,'cls.pkl')"
   ]
  },
  {
   "cell_type": "code",
   "execution_count": 12,
   "metadata": {
    "ExecuteTime": {
     "end_time": "2019-08-16T07:05:20.563810Z",
     "start_time": "2019-08-16T07:05:13.233914Z"
    },
    "collapsed": true
   },
   "outputs": [],
   "source": [
    "import pickle\n",
    "\n",
    "pickle.dump(cv, open('classifer.pkl', \"wb\"))"
   ]
  },
  {
   "cell_type": "markdown",
   "metadata": {},
   "source": [
    "### 8. Try improving your model further. Here are a few ideas:\n",
    "* try other machine learning algorithms\n",
    "* add other features besides the TF-IDF"
   ]
  },
  {
   "cell_type": "code",
   "execution_count": 15,
   "metadata": {
    "ExecuteTime": {
     "end_time": "2019-08-16T15:42:43.856747Z",
     "start_time": "2019-08-16T15:40:48.719092Z"
    }
   },
   "outputs": [],
   "source": [
    "y_presection = cv.predict(X_test)"
   ]
  },
  {
   "cell_type": "markdown",
   "metadata": {},
   "source": [
    "### 9. Export your model as a pickle file"
   ]
  },
  {
   "cell_type": "code",
   "execution_count": 16,
   "metadata": {
    "ExecuteTime": {
     "end_time": "2019-08-16T15:44:22.910556Z",
     "start_time": "2019-08-16T15:44:22.581416Z"
    }
   },
   "outputs": [
    {
     "name": "stdout",
     "output_type": "stream",
     "text": [
      "Category: related \n",
      "              precision    recall  f1-score   support\n",
      "\n",
      "          0       0.72      0.45      0.55      1228\n",
      "          1       0.85      0.94      0.89      3979\n",
      "          2       0.36      0.49      0.41        37\n",
      "\n",
      "avg / total       0.82      0.82      0.81      5244\n",
      "\n",
      "Accuracy of                   related: 0.82\n",
      "Category: request \n",
      "              precision    recall  f1-score   support\n",
      "\n",
      "          0       0.91      0.98      0.94      4362\n",
      "          1       0.81      0.50      0.61       882\n",
      "\n",
      "avg / total       0.89      0.90      0.88      5244\n",
      "\n",
      "Accuracy of                   request: 0.90\n",
      "Category: offer \n",
      "              precision    recall  f1-score   support\n",
      "\n",
      "          0       1.00      1.00      1.00      5220\n",
      "          1       0.00      0.00      0.00        24\n",
      "\n",
      "avg / total       0.99      1.00      0.99      5244\n",
      "\n",
      "Accuracy of                     offer: 1.00\n",
      "Category: aid_related \n",
      "              precision    recall  f1-score   support\n",
      "\n",
      "          0       0.80      0.85      0.83      3072\n",
      "          1       0.77      0.70      0.74      2172\n",
      "\n",
      "avg / total       0.79      0.79      0.79      5244\n",
      "\n",
      "Accuracy of               aid_related: 0.79\n",
      "Category: medical_help \n",
      "              precision    recall  f1-score   support\n",
      "\n",
      "          0       0.93      0.99      0.96      4821\n",
      "          1       0.62      0.11      0.18       423\n",
      "\n",
      "avg / total       0.90      0.92      0.90      5244\n",
      "\n",
      "Accuracy of              medical_help: 0.92\n",
      "Category: medical_products \n",
      "              precision    recall  f1-score   support\n",
      "\n",
      "          0       0.95      1.00      0.97      4968\n",
      "          1       0.78      0.07      0.12       276\n",
      "\n",
      "avg / total       0.94      0.95      0.93      5244\n",
      "\n",
      "Accuracy of          medical_products: 0.95\n",
      "Category: search_and_rescue \n",
      "              precision    recall  f1-score   support\n",
      "\n",
      "          0       0.97      1.00      0.99      5101\n",
      "          1       0.25      0.01      0.01       143\n",
      "\n",
      "avg / total       0.95      0.97      0.96      5244\n",
      "\n",
      "Accuracy of         search_and_rescue: 0.97\n",
      "Category: security \n",
      "              precision    recall  f1-score   support\n",
      "\n",
      "          0       0.98      1.00      0.99      5139\n",
      "          1       0.25      0.01      0.02       105\n",
      "\n",
      "avg / total       0.97      0.98      0.97      5244\n",
      "\n",
      "Accuracy of                  security: 0.98\n",
      "Category: military \n",
      "              precision    recall  f1-score   support\n",
      "\n",
      "          0       0.97      1.00      0.98      5074\n",
      "          1       0.67      0.05      0.09       170\n",
      "\n",
      "avg / total       0.96      0.97      0.95      5244\n",
      "\n",
      "Accuracy of                  military: 0.97\n",
      "Category: child_alone \n",
      "              precision    recall  f1-score   support\n",
      "\n",
      "          0       1.00      1.00      1.00      5244\n",
      "\n",
      "avg / total       1.00      1.00      1.00      5244\n",
      "\n",
      "Accuracy of               child_alone: 1.00\n",
      "Category: water \n",
      "              precision    recall  f1-score   support\n",
      "\n",
      "          0       0.95      1.00      0.97      4884\n",
      "          1       0.92      0.33      0.48       360\n",
      "\n",
      "avg / total       0.95      0.95      0.94      5244\n",
      "\n",
      "Accuracy of                     water: 0.95\n",
      "Category: food \n",
      "              precision    recall  f1-score   support\n",
      "\n",
      "          0       0.96      0.99      0.97      4663\n",
      "          1       0.86      0.63      0.72       581\n",
      "\n",
      "avg / total       0.94      0.95      0.94      5244\n",
      "\n",
      "Accuracy of                      food: 0.95\n",
      "Category: shelter \n",
      "              precision    recall  f1-score   support\n",
      "\n",
      "          0       0.95      0.99      0.97      4789\n",
      "          1       0.86      0.41      0.56       455\n",
      "\n",
      "avg / total       0.94      0.94      0.93      5244\n",
      "\n",
      "Accuracy of                   shelter: 0.94\n",
      "Category: clothing \n",
      "              precision    recall  f1-score   support\n",
      "\n",
      "          0       0.99      1.00      0.99      5170\n",
      "          1       0.67      0.11      0.19        74\n",
      "\n",
      "avg / total       0.98      0.99      0.98      5244\n",
      "\n",
      "Accuracy of                  clothing: 0.99\n",
      "Category: money \n",
      "              precision    recall  f1-score   support\n",
      "\n",
      "          0       0.98      1.00      0.99      5118\n",
      "          1       0.86      0.05      0.09       126\n",
      "\n",
      "avg / total       0.97      0.98      0.97      5244\n",
      "\n",
      "Accuracy of                     money: 0.98\n",
      "Category: missing_people \n",
      "              precision    recall  f1-score   support\n",
      "\n",
      "          0       0.99      1.00      0.99      5182\n",
      "          1       0.00      0.00      0.00        62\n",
      "\n",
      "avg / total       0.98      0.99      0.98      5244\n",
      "\n",
      "Accuracy of            missing_people: 0.99\n",
      "Category: refugees \n",
      "              precision    recall  f1-score   support\n",
      "\n",
      "          0       0.97      1.00      0.98      5060\n",
      "          1       0.67      0.02      0.04       184\n",
      "\n",
      "avg / total       0.96      0.97      0.95      5244\n",
      "\n",
      "Accuracy of                  refugees: 0.97\n",
      "Category: death \n",
      "              precision    recall  f1-score   support\n",
      "\n",
      "          0       0.96      1.00      0.98      5019\n",
      "          1       0.75      0.13      0.23       225\n",
      "\n",
      "avg / total       0.95      0.96      0.95      5244\n",
      "\n",
      "Accuracy of                     death: 0.96\n",
      "Category: other_aid \n",
      "              precision    recall  f1-score   support\n",
      "\n",
      "          0       0.87      1.00      0.93      4560\n",
      "          1       0.61      0.04      0.07       684\n",
      "\n",
      "avg / total       0.84      0.87      0.82      5244\n",
      "\n",
      "Accuracy of                 other_aid: 0.87\n",
      "Category: infrastructure_related \n",
      "              precision    recall  f1-score   support\n",
      "\n",
      "          0       0.93      1.00      0.97      4898\n",
      "          1       0.00      0.00      0.00       346\n",
      "\n",
      "avg / total       0.87      0.93      0.90      5244\n",
      "\n",
      "Accuracy of    infrastructure_related: 0.93\n",
      "Category: transport \n",
      "              precision    recall  f1-score   support\n",
      "\n",
      "          0       0.95      1.00      0.97      4973\n",
      "          1       0.72      0.07      0.12       271\n",
      "\n",
      "avg / total       0.94      0.95      0.93      5244\n",
      "\n",
      "Accuracy of                 transport: 0.95\n",
      "Category: buildings \n",
      "              precision    recall  f1-score   support\n",
      "\n",
      "          0       0.95      1.00      0.98      4968\n",
      "          1       0.84      0.10      0.18       276\n",
      "\n",
      "avg / total       0.95      0.95      0.93      5244\n",
      "\n",
      "Accuracy of                 buildings: 0.95\n",
      "Category: electricity \n",
      "              precision    recall  f1-score   support\n",
      "\n",
      "          0       0.98      1.00      0.99      5141\n",
      "          1       0.50      0.03      0.06       103\n",
      "\n",
      "avg / total       0.97      0.98      0.97      5244\n",
      "\n",
      "Accuracy of               electricity: 0.98\n",
      "Category: tools \n",
      "              precision    recall  f1-score   support\n",
      "\n",
      "          0       0.99      1.00      1.00      5215\n",
      "          1       0.00      0.00      0.00        29\n",
      "\n",
      "avg / total       0.99      0.99      0.99      5244\n",
      "\n",
      "Accuracy of                     tools: 0.99\n",
      "Category: hospitals \n",
      "              precision    recall  f1-score   support\n",
      "\n",
      "          0       0.99      1.00      0.99      5177\n",
      "          1       0.00      0.00      0.00        67\n",
      "\n",
      "avg / total       0.97      0.99      0.98      5244\n",
      "\n",
      "Accuracy of                 hospitals: 0.99\n",
      "Category: shops "
     ]
    },
    {
     "name": "stderr",
     "output_type": "stream",
     "text": [
      "C:\\Users\\user\\Anaconda3\\lib\\site-packages\\sklearn\\metrics\\classification.py:1135: UndefinedMetricWarning: Precision and F-score are ill-defined and being set to 0.0 in labels with no predicted samples.\n",
      "  'precision', 'predicted', average, warn_for)\n"
     ]
    },
    {
     "name": "stdout",
     "output_type": "stream",
     "text": [
      "\n",
      "              precision    recall  f1-score   support\n",
      "\n",
      "          0       1.00      1.00      1.00      5218\n",
      "          1       0.00      0.00      0.00        26\n",
      "\n",
      "avg / total       0.99      1.00      0.99      5244\n",
      "\n",
      "Accuracy of                     shops: 1.00\n",
      "Category: aid_centers \n",
      "              precision    recall  f1-score   support\n",
      "\n",
      "          0       0.99      1.00      0.99      5181\n",
      "          1       0.00      0.00      0.00        63\n",
      "\n",
      "avg / total       0.98      0.99      0.98      5244\n",
      "\n",
      "Accuracy of               aid_centers: 0.99\n",
      "Category: other_infrastructure \n",
      "              precision    recall  f1-score   support\n",
      "\n",
      "          0       0.96      1.00      0.98      5020\n",
      "          1       0.00      0.00      0.00       224\n",
      "\n",
      "avg / total       0.92      0.96      0.94      5244\n",
      "\n",
      "Accuracy of      other_infrastructure: 0.96\n",
      "Category: weather_related \n",
      "              precision    recall  f1-score   support\n",
      "\n",
      "          0       0.89      0.96      0.92      3737\n",
      "          1       0.86      0.69      0.77      1507\n",
      "\n",
      "avg / total       0.88      0.88      0.88      5244\n",
      "\n",
      "Accuracy of           weather_related: 0.88\n",
      "Category: floods \n",
      "              precision    recall  f1-score   support\n",
      "\n",
      "          0       0.95      1.00      0.97      4782\n",
      "          1       0.91      0.49      0.64       462\n",
      "\n",
      "avg / total       0.95      0.95      0.94      5244\n",
      "\n",
      "Accuracy of                    floods: 0.95\n",
      "Category: storm \n",
      "              precision    recall  f1-score   support\n",
      "\n",
      "          0       0.95      0.99      0.97      4733\n",
      "          1       0.82      0.50      0.62       511\n",
      "\n",
      "avg / total       0.94      0.94      0.93      5244\n",
      "\n",
      "Accuracy of                     storm: 0.94\n",
      "Category: fire \n",
      "              precision    recall  f1-score   support\n",
      "\n",
      "          0       0.99      1.00      0.99      5185\n",
      "          1       1.00      0.02      0.03        59\n",
      "\n",
      "avg / total       0.99      0.99      0.98      5244\n",
      "\n",
      "Accuracy of                      fire: 0.99\n",
      "Category: earthquake \n",
      "              precision    recall  f1-score   support\n",
      "\n",
      "          0       0.98      0.99      0.99      4759\n",
      "          1       0.90      0.82      0.86       485\n",
      "\n",
      "avg / total       0.97      0.98      0.97      5244\n",
      "\n",
      "Accuracy of                earthquake: 0.98\n",
      "Category: cold \n",
      "              precision    recall  f1-score   support\n",
      "\n",
      "          0       0.98      1.00      0.99      5129\n",
      "          1       0.85      0.10      0.17       115\n",
      "\n",
      "avg / total       0.98      0.98      0.97      5244\n",
      "\n",
      "Accuracy of                      cold: 0.98\n",
      "Category: other_weather \n",
      "              precision    recall  f1-score   support\n",
      "\n",
      "          0       0.95      1.00      0.97      4954\n",
      "          1       0.57      0.03      0.05       290\n",
      "\n",
      "avg / total       0.93      0.95      0.92      5244\n",
      "\n",
      "Accuracy of             other_weather: 0.95\n",
      "Category: direct_report \n",
      "              precision    recall  f1-score   support\n",
      "\n",
      "          0       0.87      0.97      0.92      4250\n",
      "          1       0.75      0.38      0.51       994\n",
      "\n",
      "avg / total       0.85      0.86      0.84      5244\n",
      "\n",
      "Accuracy of             direct_report: 0.86\n"
     ]
    }
   ],
   "source": [
    "for i in range(len(category_names)):\n",
    "        print(\"Category:\", category_names[i],\"\\n\", classification_report(y_test.iloc[:, i].values, y_presection[:, i]))\n",
    "        print('Accuracy of %25s: %.2f' %(category_names[i], accuracy_score(y_test.iloc[:, i].values, y_presection[:,i])))"
   ]
  },
  {
   "cell_type": "markdown",
   "metadata": {},
   "source": [
    "### 10. Use this notebook to complete `train.py`\n",
    "Use the template file attached in the Resources folder to write a script that runs the steps above to create a database and export a model based on a new dataset specified by the user."
   ]
  },
  {
   "cell_type": "code",
   "execution_count": 18,
   "metadata": {
    "ExecuteTime": {
     "end_time": "2019-08-16T15:59:03.717249Z",
     "start_time": "2019-08-16T15:59:03.710783Z"
    },
    "collapsed": true
   },
   "outputs": [],
   "source": [
    "from sklearn.externals import joblib"
   ]
  },
  {
   "cell_type": "code",
   "execution_count": 19,
   "metadata": {
    "ExecuteTime": {
     "end_time": "2019-08-16T15:59:26.234354Z",
     "start_time": "2019-08-16T15:59:20.086877Z"
    },
    "collapsed": true
   },
   "outputs": [],
   "source": [
    "model33 = joblib.load('classifer.pkl')"
   ]
  },
  {
   "cell_type": "code",
   "execution_count": 20,
   "metadata": {
    "ExecuteTime": {
     "end_time": "2019-08-16T16:02:17.227657Z",
     "start_time": "2019-08-16T16:00:25.274252Z"
    },
    "collapsed": true
   },
   "outputs": [],
   "source": [
    "yyyyy = model33.predict(X_test)"
   ]
  },
  {
   "cell_type": "code",
   "execution_count": 21,
   "metadata": {
    "ExecuteTime": {
     "end_time": "2019-08-16T16:03:53.413057Z",
     "start_time": "2019-08-16T16:03:53.008608Z"
    }
   },
   "outputs": [
    {
     "name": "stdout",
     "output_type": "stream",
     "text": [
      "Category: related \n",
      "              precision    recall  f1-score   support\n",
      "\n",
      "          0       0.72      0.45      0.55      1228\n",
      "          1       0.85      0.94      0.89      3979\n",
      "          2       0.36      0.49      0.41        37\n",
      "\n",
      "avg / total       0.82      0.82      0.81      5244\n",
      "\n",
      "Accuracy of                   related: 0.82\n",
      "Category: request \n",
      "              precision    recall  f1-score   support\n",
      "\n",
      "          0       0.91      0.98      0.94      4362\n",
      "          1       0.81      0.50      0.61       882\n",
      "\n",
      "avg / total       0.89      0.90      0.88      5244\n",
      "\n",
      "Accuracy of                   request: 0.90\n",
      "Category: offer \n",
      "              precision    recall  f1-score   support\n",
      "\n",
      "          0       1.00      1.00      1.00      5220\n",
      "          1       0.00      0.00      0.00        24\n",
      "\n",
      "avg / total       0.99      1.00      0.99      5244\n",
      "\n",
      "Accuracy of                     offer: 1.00\n",
      "Category: aid_related \n",
      "              precision    recall  f1-score   support\n",
      "\n",
      "          0       0.80      0.85      0.83      3072\n",
      "          1       0.77      0.70      0.74      2172\n",
      "\n",
      "avg / total       0.79      0.79      0.79      5244\n",
      "\n",
      "Accuracy of               aid_related: 0.79\n",
      "Category: medical_help \n",
      "              precision    recall  f1-score   support\n",
      "\n",
      "          0       0.93      0.99      0.96      4821\n",
      "          1       0.62      0.11      0.18       423\n",
      "\n",
      "avg / total       0.90      0.92      0.90      5244\n",
      "\n",
      "Accuracy of              medical_help: 0.92\n",
      "Category: medical_products \n",
      "              precision    recall  f1-score   support\n",
      "\n",
      "          0       0.95      1.00      0.97      4968\n",
      "          1       0.78      0.07      0.12       276\n",
      "\n",
      "avg / total       0.94      0.95      0.93      5244\n",
      "\n",
      "Accuracy of          medical_products: 0.95\n",
      "Category: search_and_rescue \n",
      "              precision    recall  f1-score   support\n",
      "\n",
      "          0       0.97      1.00      0.99      5101\n",
      "          1       0.25      0.01      0.01       143\n",
      "\n",
      "avg / total       0.95      0.97      0.96      5244\n",
      "\n",
      "Accuracy of         search_and_rescue: 0.97\n",
      "Category: security \n",
      "              precision    recall  f1-score   support\n",
      "\n",
      "          0       0.98      1.00      0.99      5139\n",
      "          1       0.25      0.01      0.02       105\n",
      "\n",
      "avg / total       0.97      0.98      0.97      5244\n",
      "\n",
      "Accuracy of                  security: 0.98\n",
      "Category: military \n",
      "              precision    recall  f1-score   support\n",
      "\n",
      "          0       0.97      1.00      0.98      5074\n",
      "          1       0.67      0.05      0.09       170\n",
      "\n",
      "avg / total       0.96      0.97      0.95      5244\n",
      "\n",
      "Accuracy of                  military: 0.97\n",
      "Category: child_alone \n",
      "              precision    recall  f1-score   support\n",
      "\n",
      "          0       1.00      1.00      1.00      5244\n",
      "\n",
      "avg / total       1.00      1.00      1.00      5244\n",
      "\n",
      "Accuracy of               child_alone: 1.00\n",
      "Category: water \n",
      "              precision    recall  f1-score   support\n",
      "\n",
      "          0       0.95      1.00      0.97      4884\n",
      "          1       0.92      0.33      0.48       360\n",
      "\n",
      "avg / total       0.95      0.95      0.94      5244\n",
      "\n",
      "Accuracy of                     water: 0.95\n",
      "Category: food \n",
      "              precision    recall  f1-score   support\n",
      "\n",
      "          0       0.96      0.99      0.97      4663\n",
      "          1       0.86      0.63      0.72       581\n",
      "\n",
      "avg / total       0.94      0.95      0.94      5244\n",
      "\n",
      "Accuracy of                      food: 0.95\n",
      "Category: shelter \n",
      "              precision    recall  f1-score   support\n",
      "\n",
      "          0       0.95      0.99      0.97      4789\n",
      "          1       0.86      0.41      0.56       455\n",
      "\n",
      "avg / total       0.94      0.94      0.93      5244\n",
      "\n",
      "Accuracy of                   shelter: 0.94\n",
      "Category: clothing \n",
      "              precision    recall  f1-score   support\n",
      "\n",
      "          0       0.99      1.00      0.99      5170\n",
      "          1       0.67      0.11      0.19        74\n",
      "\n",
      "avg / total       0.98      0.99      0.98      5244\n",
      "\n",
      "Accuracy of                  clothing: 0.99\n",
      "Category: money \n",
      "              precision    recall  f1-score   support\n",
      "\n",
      "          0       0.98      1.00      0.99      5118\n",
      "          1       0.86      0.05      0.09       126\n",
      "\n",
      "avg / total       0.97      0.98      0.97      5244\n",
      "\n",
      "Accuracy of                     money: 0.98\n",
      "Category: missing_people \n",
      "              precision    recall  f1-score   support\n",
      "\n",
      "          0       0.99      1.00      0.99      5182\n",
      "          1       0.00      0.00      0.00        62\n",
      "\n",
      "avg / total       0.98      0.99      0.98      5244\n",
      "\n",
      "Accuracy of            missing_people: 0.99\n",
      "Category: refugees \n",
      "              precision    recall  f1-score   support\n",
      "\n",
      "          0       0.97      1.00      0.98      5060\n",
      "          1       0.67      0.02      0.04       184\n",
      "\n",
      "avg / total       0.96      0.97      0.95      5244\n",
      "\n",
      "Accuracy of                  refugees: 0.97\n",
      "Category: death \n",
      "              precision    recall  f1-score   support\n",
      "\n",
      "          0       0.96      1.00      0.98      5019\n",
      "          1       0.75      0.13      0.23       225\n",
      "\n",
      "avg / total       0.95      0.96      0.95      5244\n",
      "\n",
      "Accuracy of                     death: 0.96\n",
      "Category: other_aid \n",
      "              precision    recall  f1-score   support\n",
      "\n",
      "          0       0.87      1.00      0.93      4560\n",
      "          1       0.61      0.04      0.07       684\n",
      "\n",
      "avg / total       0.84      0.87      0.82      5244\n",
      "\n",
      "Accuracy of                 other_aid: 0.87\n",
      "Category: infrastructure_related \n",
      "              precision    recall  f1-score   support\n",
      "\n",
      "          0       0.93      1.00      0.97      4898\n",
      "          1       0.00      0.00      0.00       346\n",
      "\n",
      "avg / total       0.87      0.93      0.90      5244\n",
      "\n",
      "Accuracy of    infrastructure_related: 0.93\n",
      "Category:"
     ]
    },
    {
     "name": "stderr",
     "output_type": "stream",
     "text": [
      "C:\\Users\\user\\Anaconda3\\lib\\site-packages\\sklearn\\metrics\\classification.py:1135: UndefinedMetricWarning: Precision and F-score are ill-defined and being set to 0.0 in labels with no predicted samples.\n",
      "  'precision', 'predicted', average, warn_for)\n"
     ]
    },
    {
     "name": "stdout",
     "output_type": "stream",
     "text": [
      " transport \n",
      "              precision    recall  f1-score   support\n",
      "\n",
      "          0       0.95      1.00      0.97      4973\n",
      "          1       0.72      0.07      0.12       271\n",
      "\n",
      "avg / total       0.94      0.95      0.93      5244\n",
      "\n",
      "Accuracy of                 transport: 0.95\n",
      "Category: buildings \n",
      "              precision    recall  f1-score   support\n",
      "\n",
      "          0       0.95      1.00      0.98      4968\n",
      "          1       0.84      0.10      0.18       276\n",
      "\n",
      "avg / total       0.95      0.95      0.93      5244\n",
      "\n",
      "Accuracy of                 buildings: 0.95\n",
      "Category: electricity \n",
      "              precision    recall  f1-score   support\n",
      "\n",
      "          0       0.98      1.00      0.99      5141\n",
      "          1       0.50      0.03      0.06       103\n",
      "\n",
      "avg / total       0.97      0.98      0.97      5244\n",
      "\n",
      "Accuracy of               electricity: 0.98\n",
      "Category: tools \n",
      "              precision    recall  f1-score   support\n",
      "\n",
      "          0       0.99      1.00      1.00      5215\n",
      "          1       0.00      0.00      0.00        29\n",
      "\n",
      "avg / total       0.99      0.99      0.99      5244\n",
      "\n",
      "Accuracy of                     tools: 0.99\n",
      "Category: hospitals \n",
      "              precision    recall  f1-score   support\n",
      "\n",
      "          0       0.99      1.00      0.99      5177\n",
      "          1       0.00      0.00      0.00        67\n",
      "\n",
      "avg / total       0.97      0.99      0.98      5244\n",
      "\n",
      "Accuracy of                 hospitals: 0.99\n",
      "Category: shops \n",
      "              precision    recall  f1-score   support\n",
      "\n",
      "          0       1.00      1.00      1.00      5218\n",
      "          1       0.00      0.00      0.00        26\n",
      "\n",
      "avg / total       0.99      1.00      0.99      5244\n",
      "\n",
      "Accuracy of                     shops: 1.00\n",
      "Category: aid_centers \n",
      "              precision    recall  f1-score   support\n",
      "\n",
      "          0       0.99      1.00      0.99      5181\n",
      "          1       0.00      0.00      0.00        63\n",
      "\n",
      "avg / total       0.98      0.99      0.98      5244\n",
      "\n",
      "Accuracy of               aid_centers: 0.99\n",
      "Category: other_infrastructure \n",
      "              precision    recall  f1-score   support\n",
      "\n",
      "          0       0.96      1.00      0.98      5020\n",
      "          1       0.00      0.00      0.00       224\n",
      "\n",
      "avg / total       0.92      0.96      0.94      5244\n",
      "\n",
      "Accuracy of      other_infrastructure: 0.96\n",
      "Category: weather_related \n",
      "              precision    recall  f1-score   support\n",
      "\n",
      "          0       0.89      0.96      0.92      3737\n",
      "          1       0.86      0.69      0.77      1507\n",
      "\n",
      "avg / total       0.88      0.88      0.88      5244\n",
      "\n",
      "Accuracy of           weather_related: 0.88\n",
      "Category: floods \n",
      "              precision    recall  f1-score   support\n",
      "\n",
      "          0       0.95      1.00      0.97      4782\n",
      "          1       0.91      0.49      0.64       462\n",
      "\n",
      "avg / total       0.95      0.95      0.94      5244\n",
      "\n",
      "Accuracy of                    floods: 0.95\n",
      "Category: storm \n",
      "              precision    recall  f1-score   support\n",
      "\n",
      "          0       0.95      0.99      0.97      4733\n",
      "          1       0.82      0.50      0.62       511\n",
      "\n",
      "avg / total       0.94      0.94      0.93      5244\n",
      "\n",
      "Accuracy of                     storm: 0.94\n",
      "Category: fire \n",
      "              precision    recall  f1-score   support\n",
      "\n",
      "          0       0.99      1.00      0.99      5185\n",
      "          1       1.00      0.02      0.03        59\n",
      "\n",
      "avg / total       0.99      0.99      0.98      5244\n",
      "\n",
      "Accuracy of                      fire: 0.99\n",
      "Category: earthquake \n",
      "              precision    recall  f1-score   support\n",
      "\n",
      "          0       0.98      0.99      0.99      4759\n",
      "          1       0.90      0.82      0.86       485\n",
      "\n",
      "avg / total       0.97      0.98      0.97      5244\n",
      "\n",
      "Accuracy of                earthquake: 0.98\n",
      "Category: cold \n",
      "              precision    recall  f1-score   support\n",
      "\n",
      "          0       0.98      1.00      0.99      5129\n",
      "          1       0.85      0.10      0.17       115\n",
      "\n",
      "avg / total       0.98      0.98      0.97      5244\n",
      "\n",
      "Accuracy of                      cold: 0.98\n",
      "Category: other_weather \n",
      "              precision    recall  f1-score   support\n",
      "\n",
      "          0       0.95      1.00      0.97      4954\n",
      "          1       0.57      0.03      0.05       290\n",
      "\n",
      "avg / total       0.93      0.95      0.92      5244\n",
      "\n",
      "Accuracy of             other_weather: 0.95\n",
      "Category: direct_report \n",
      "              precision    recall  f1-score   support\n",
      "\n",
      "          0       0.87      0.97      0.92      4250\n",
      "          1       0.75      0.38      0.51       994\n",
      "\n",
      "avg / total       0.85      0.86      0.84      5244\n",
      "\n",
      "Accuracy of             direct_report: 0.86\n"
     ]
    }
   ],
   "source": [
    "for i in range(len(category_names)):\n",
    "        print(\"Category:\", category_names[i],\"\\n\", classification_report(y_test.iloc[:, i].values, yyyyy[:, i]))\n",
    "        print('Accuracy of %25s: %.2f' %(category_names[i], accuracy_score(y_test.iloc[:, i].values, yyyyy[:,i])))"
   ]
  },
  {
   "cell_type": "code",
   "execution_count": null,
   "metadata": {
    "collapsed": true
   },
   "outputs": [],
   "source": []
  }
 ],
 "metadata": {
  "kernelspec": {
   "display_name": "Python 3",
   "language": "python",
   "name": "python3"
  },
  "language_info": {
   "codemirror_mode": {
    "name": "ipython",
    "version": 3
   },
   "file_extension": ".py",
   "mimetype": "text/x-python",
   "name": "python",
   "nbconvert_exporter": "python",
   "pygments_lexer": "ipython3",
   "version": "3.6.3"
  },
  "toc": {
   "base_numbering": 1,
   "nav_menu": {},
   "number_sections": true,
   "sideBar": true,
   "skip_h1_title": false,
   "title_cell": "Table of Contents",
   "title_sidebar": "Contents",
   "toc_cell": false,
   "toc_position": {},
   "toc_section_display": true,
   "toc_window_display": false
  },
  "varInspector": {
   "cols": {
    "lenName": 16,
    "lenType": 16,
    "lenVar": 40
   },
   "kernels_config": {
    "python": {
     "delete_cmd_postfix": "",
     "delete_cmd_prefix": "del ",
     "library": "var_list.py",
     "varRefreshCmd": "print(var_dic_list())"
    },
    "r": {
     "delete_cmd_postfix": ") ",
     "delete_cmd_prefix": "rm(",
     "library": "var_list.r",
     "varRefreshCmd": "cat(var_dic_list()) "
    }
   },
   "types_to_exclude": [
    "module",
    "function",
    "builtin_function_or_method",
    "instance",
    "_Feature"
   ],
   "window_display": false
  }
 },
 "nbformat": 4,
 "nbformat_minor": 2
}
